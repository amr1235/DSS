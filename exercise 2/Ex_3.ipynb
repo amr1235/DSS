{
 "cells": [
  {
   "cell_type": "code",
   "execution_count": 1,
   "id": "6867f55e",
   "metadata": {},
   "outputs": [],
   "source": [
    "import pandas as pd\n",
    "import numpy as np\n",
    "import matplotlib.pyplot as plt"
   ]
  },
  {
   "cell_type": "code",
   "execution_count": 280,
   "id": "b3e5fd3c",
   "metadata": {},
   "outputs": [],
   "source": [
    "# load DataFrame\n"
   ]
  },
  {
   "cell_type": "code",
   "execution_count": 281,
   "id": "8c811f4d",
   "metadata": {
    "scrolled": true
   },
   "outputs": [],
   "source": [
    "# check all columns\n"
   ]
  },
  {
   "cell_type": "markdown",
   "id": "d0722bbc",
   "metadata": {},
   "source": [
    "## Explore the data"
   ]
  },
  {
   "cell_type": "markdown",
   "id": "a5d55ae5",
   "metadata": {},
   "source": [
    "### Age"
   ]
  },
  {
   "cell_type": "code",
   "execution_count": 292,
   "id": "f3dbc1fc",
   "metadata": {},
   "outputs": [],
   "source": [
    "# remove NaN's from column 'Age'\n"
   ]
  },
  {
   "cell_type": "code",
   "execution_count": 291,
   "id": "bc6c0bd6",
   "metadata": {},
   "outputs": [],
   "source": [
    "# plot Age distribution\n"
   ]
  },
  {
   "cell_type": "markdown",
   "id": "416b7676",
   "metadata": {},
   "source": [
    "### \"Age\" and \"Total years of experience\""
   ]
  },
  {
   "cell_type": "code",
   "execution_count": 293,
   "id": "8126021d",
   "metadata": {
    "scrolled": true
   },
   "outputs": [],
   "source": [
    "# remove NaN's from \"Total years of experience\"\n"
   ]
  },
  {
   "cell_type": "code",
   "execution_count": 294,
   "id": "30ce8d17",
   "metadata": {},
   "outputs": [],
   "source": [
    "# plot 'Age' and 'Total years of experience'\n",
    "plt.figure(figsize=(12, 5))\n",
    "\n",
    "plt.ylabel(\"Age\"); plt.xlabel(\"Total years of experience\")"
   ]
  },
  {
   "cell_type": "code",
   "execution_count": 295,
   "id": "e6cfa4c4",
   "metadata": {},
   "outputs": [],
   "source": [
    "# replace non-numeric values in column \"Total years of experience\" with NaN\n",
    "\n",
    "\n",
    "# remove NaN's from \"Total years of experience\" again\n",
    "df = df[~df[\"Total years of experience\"].isnull()]\n",
    "len(df)"
   ]
  },
  {
   "cell_type": "code",
   "execution_count": 296,
   "id": "503207d1",
   "metadata": {},
   "outputs": [],
   "source": [
    "# plot it again\n",
    "plt.figure(figsize=(12, 5))\n",
    "plt.scatter(df[\"Total years of experience\"], df[\"Age\"])\n",
    "#plt.xlim(0, 100)"
   ]
  },
  {
   "cell_type": "markdown",
   "id": "f385e725",
   "metadata": {},
   "source": [
    "#### Remove outlier"
   ]
  },
  {
   "cell_type": "code",
   "execution_count": 297,
   "id": "1b1da14a",
   "metadata": {},
   "outputs": [],
   "source": [
    "df[\"Total years of experience\"].plot.hist(bins=50)\n",
    "plt.xlabel(\"Total years of experience\")\n",
    "plt.xlim(0,100)\n",
    "plt.show()\n",
    "# --> positively skewed distribution\n",
    "\n",
    "# box plot\n",
    "\n",
    "plt.show()\n",
    "\n",
    "# and with pandas\n"
   ]
  },
  {
   "cell_type": "code",
   "execution_count": 298,
   "id": "5b1deecf",
   "metadata": {},
   "outputs": [],
   "source": [
    "# get whiskers values\n"
   ]
  },
  {
   "cell_type": "code",
   "execution_count": 300,
   "id": "32753cff",
   "metadata": {},
   "outputs": [],
   "source": [
    "# return values from boxplot plotted with pandas\n",
    "boxplot_pd\n",
    "\n",
    "# change return from pandas boxplot --> https://pandas.pydata.org/docs/reference/api/pandas.DataFrame.boxplot.html\n"
   ]
  },
  {
   "cell_type": "code",
   "execution_count": 27,
   "id": "855646ba",
   "metadata": {},
   "outputs": [
    {
     "data": {
      "text/plain": [
       "count    1211.000000\n",
       "mean        9.066557\n",
       "std        11.972355\n",
       "min         0.000000\n",
       "25%         5.000000\n",
       "50%         8.000000\n",
       "75%        12.000000\n",
       "max       383.000000\n",
       "Name: Total years of experience, dtype: float64"
      ]
     },
     "execution_count": 27,
     "metadata": {},
     "output_type": "execute_result"
    }
   ],
   "source": [
    "df['Total years of experience'].describe()"
   ]
  },
  {
   "cell_type": "code",
   "execution_count": 301,
   "id": "0767be44",
   "metadata": {},
   "outputs": [],
   "source": [
    "# Q3 + whis*(Q3-Q1)\n"
   ]
  },
  {
   "cell_type": "code",
   "execution_count": 302,
   "id": "646e121d",
   "metadata": {},
   "outputs": [],
   "source": [
    "# Q1 - whis*(Q3-Q1)\n"
   ]
  },
  {
   "cell_type": "code",
   "execution_count": 303,
   "id": "704f97a5",
   "metadata": {},
   "outputs": [],
   "source": [
    "# apply the limits to our DataFrame\n"
   ]
  },
  {
   "cell_type": "code",
   "execution_count": 31,
   "id": "1c39846b",
   "metadata": {},
   "outputs": [
    {
     "data": {
      "text/plain": [
       "count    1190.000000\n",
       "mean        8.444202\n",
       "std         4.688790\n",
       "min         0.000000\n",
       "25%         5.000000\n",
       "50%         8.000000\n",
       "75%        11.000000\n",
       "max        22.000000\n",
       "Name: Total years of experience, dtype: float64"
      ]
     },
     "execution_count": 31,
     "metadata": {},
     "output_type": "execute_result"
    }
   ],
   "source": [
    "df['Total years of experience'].describe()"
   ]
  },
  {
   "cell_type": "code",
   "execution_count": 304,
   "id": "1f4eabda",
   "metadata": {},
   "outputs": [],
   "source": [
    "# plot it again without outliers\n",
    "plt.figure(figsize=(12, 5))\n",
    "plt.scatter(df[\"Total years of experience\"], df[\"Age\"])\n",
    "plt.ylabel(\"Age\"); plt.xlabel(\"Total years of experience\")"
   ]
  },
  {
   "cell_type": "markdown",
   "id": "8c4a76f2",
   "metadata": {},
   "source": [
    "### Correlations"
   ]
  },
  {
   "cell_type": "code",
   "execution_count": 34,
   "id": "bb50e47f",
   "metadata": {},
   "outputs": [],
   "source": [
    "from scipy.stats import pearsonr, spearmanr"
   ]
  },
  {
   "attachments": {
    "image.png": {
     "image/png": "[encoded data removed]"
    }
   },
   "cell_type": "markdown",
   "id": "dda51426",
   "metadata": {},
   "source": [
    "Pearson's correlation coefficient\n",
    "![image.png](attachment:image.png)"
   ]
  },
  {
   "cell_type": "code",
   "execution_count": 305,
   "id": "e453a707",
   "metadata": {},
   "outputs": [],
   "source": [
    "# todo: implement Peason's correlation coefficient\n",
    "def pearson(x, y):\n",
    "    pass"
   ]
  },
  {
   "cell_type": "code",
   "execution_count": 306,
   "id": "634abc16",
   "metadata": {},
   "outputs": [],
   "source": [
    "pearson(df['Age'], df['Total years of experience'])"
   ]
  },
  {
   "cell_type": "code",
   "execution_count": 308,
   "id": "f37470f0",
   "metadata": {},
   "outputs": [],
   "source": [
    "# pearson's correlation using scipy\n",
    "corr, p_value = pearsonr(df['Age'], df['Total years of experience'])\n",
    "corr"
   ]
  },
  {
   "cell_type": "code",
   "execution_count": 309,
   "id": "b8e4fd0e",
   "metadata": {},
   "outputs": [],
   "source": [
    "# spearman's correlation using scipy\n",
    "corr, p_value = spearmanr(df['Age'], df['Total years of experience'])\n",
    "corr"
   ]
  },
  {
   "cell_type": "markdown",
   "id": "87e19e4d",
   "metadata": {},
   "source": [
    "### Gender"
   ]
  },
  {
   "cell_type": "code",
   "execution_count": 112,
   "id": "3be0609e",
   "metadata": {},
   "outputs": [
    {
     "data": {
      "text/plain": [
       "1253"
      ]
     },
     "execution_count": 112,
     "metadata": {},
     "output_type": "execute_result"
    }
   ],
   "source": [
    "# reload DataFrame first since we don't need the DataFrame filtered by \n",
    "df = pd.read_csv(\"IT Salary Survey EU  2020.csv\")\n",
    "len(df)"
   ]
  },
  {
   "cell_type": "code",
   "execution_count": 127,
   "id": "d49b8121",
   "metadata": {},
   "outputs": [],
   "source": [
    "# throw away all NaN's\n",
    "df = df[~df[\"Gender\"].isnull()]"
   ]
  },
  {
   "cell_type": "code",
   "execution_count": 310,
   "id": "884f9db4",
   "metadata": {},
   "outputs": [],
   "source": [
    "# plot gender\n"
   ]
  },
  {
   "cell_type": "code",
   "execution_count": 311,
   "id": "c77d5a8a",
   "metadata": {},
   "outputs": [],
   "source": [
    "# replace strings with numerical values\n"
   ]
  },
  {
   "cell_type": "code",
   "execution_count": 312,
   "id": "4a04c65c",
   "metadata": {},
   "outputs": [],
   "source": [
    "# plot again\n"
   ]
  },
  {
   "cell_type": "markdown",
   "id": "82a2e892",
   "metadata": {},
   "source": [
    "### Programming languages"
   ]
  },
  {
   "cell_type": "code",
   "execution_count": 313,
   "id": "11170112",
   "metadata": {},
   "outputs": [],
   "source": [
    "# check values\n"
   ]
  },
  {
   "cell_type": "code",
   "execution_count": 314,
   "id": "83dca154",
   "metadata": {},
   "outputs": [],
   "source": [
    "# plot programming languages\n",
    "df[\"Your main technology / programming language\"].value_counts()[0:5].plot(kind='bar')"
   ]
  },
  {
   "cell_type": "code",
   "execution_count": 315,
   "id": "a1a31bb4",
   "metadata": {
    "scrolled": true
   },
   "outputs": [],
   "source": [
    "# extract mask \n",
    "def get_mask(df_column, keys):\n",
    "    pass\n",
    "        \n",
    "mask = get_mask(df[\"Your main technology / programming language\"], keys)\n",
    "df = df[mask]\n",
    "df"
   ]
  },
  {
   "cell_type": "code",
   "execution_count": 316,
   "id": "29683428",
   "metadata": {},
   "outputs": [],
   "source": [
    "# plot again\n",
    "df[\"Your main technology / programming language\"].value_counts().plot(kind='pie')"
   ]
  },
  {
   "cell_type": "code",
   "execution_count": 120,
   "id": "a521be9f",
   "metadata": {},
   "outputs": [],
   "source": [
    "# replace strings by numeric values\n",
    "for idx, k in enumerate(keys):\n",
    "    df.loc[df[\"Your main technology / programming language\"] == k, \"Your main technology / programming language\"] = idx"
   ]
  },
  {
   "cell_type": "code",
   "execution_count": 317,
   "id": "e54d3905",
   "metadata": {},
   "outputs": [],
   "source": [
    "# plot\n",
    "df[\"Your main technology / programming language\"].value_counts().plot(kind='pie')"
   ]
  },
  {
   "cell_type": "markdown",
   "id": "98781647",
   "metadata": {},
   "source": [
    "### Seniority level"
   ]
  },
  {
   "cell_type": "code",
   "execution_count": 122,
   "id": "dabddf9b",
   "metadata": {
    "scrolled": true
   },
   "outputs": [
    {
     "data": {
      "text/plain": [
       "Senior                       200\n",
       "Middle                       155\n",
       "Lead                          60\n",
       "Junior                        33\n",
       "Head                          18\n",
       "Manager                        1\n",
       "No level                       1\n",
       "Director                       1\n",
       "C-level executive manager      1\n",
       "Principal                      1\n",
       "intern                         1\n",
       "Working Student                1\n",
       "Intern                         1\n",
       "Name: Seniority level, dtype: int64"
      ]
     },
     "execution_count": 122,
     "metadata": {},
     "output_type": "execute_result"
    }
   ],
   "source": [
    "df[\"Seniority level\"].value_counts()"
   ]
  },
  {
   "cell_type": "code",
   "execution_count": 123,
   "id": "17807c75",
   "metadata": {
    "scrolled": true
   },
   "outputs": [],
   "source": [
    "# get keys\n",
    "keys = df[\"Seniority level\"].value_counts()[:5].keys()\n",
    "keys\n",
    "\n",
    "# get mask\n",
    "mask = get_mask(df[\"Seniority level\"], keys)\n",
    "df = df[mask]\n",
    "df\n",
    "\n",
    "for idx, k in enumerate(keys):\n",
    "    df.loc[df[\"Seniority level\"] == k, \"Seniority level\"] = idx"
   ]
  },
  {
   "cell_type": "code",
   "execution_count": 124,
   "id": "640ca7c0",
   "metadata": {},
   "outputs": [
    {
     "data": {
      "text/plain": [
       "<AxesSubplot:ylabel='Seniority level'>"
      ]
     },
     "execution_count": 124,
     "metadata": {},
     "output_type": "execute_result"
    },
    {
     "data": {
      "image/png": "[encoded data removed]",
      "text/plain": [
       "<Figure size 432x288 with 1 Axes>"
      ]
     },
     "metadata": {},
     "output_type": "display_data"
    }
   ],
   "source": [
    "df[\"Seniority level\"].value_counts().plot(kind='pie')"
   ]
  },
  {
   "cell_type": "code",
   "execution_count": 144,
   "id": "0a91feab",
   "metadata": {},
   "outputs": [],
   "source": [
    "# we also need the Age again and we reset the index\n",
    "df = df[~df[\"Age\"].isnull()]\n",
    "df = df.reset_index()"
   ]
  },
  {
   "cell_type": "markdown",
   "id": "7543e8a9",
   "metadata": {},
   "source": [
    "## PCA"
   ]
  },
  {
   "cell_type": "code",
   "execution_count": 175,
   "id": "c6878670",
   "metadata": {},
   "outputs": [],
   "source": [
    "from sklearn.decomposition import PCA"
   ]
  },
  {
   "cell_type": "code",
   "execution_count": 318,
   "id": "42775c2c",
   "metadata": {},
   "outputs": [],
   "source": [
    "# prepare features\n"
   ]
  },
  {
   "cell_type": "code",
   "execution_count": 319,
   "id": "97523fe4",
   "metadata": {},
   "outputs": [],
   "source": [
    "# perform PCA\n"
   ]
  },
  {
   "cell_type": "code",
   "execution_count": 320,
   "id": "77c4ed4f",
   "metadata": {},
   "outputs": [],
   "source": [
    "# plot the newly generated features\n",
    "genders = [\"Male\", \"Female\", \"Diverse\"]\n",
    "colors = [\"orange\", \"magenta\", \"green\"]\n",
    "\n"
   ]
  },
  {
   "cell_type": "code",
   "execution_count": 321,
   "id": "95e5fc74",
   "metadata": {},
   "outputs": [],
   "source": [
    "# plot programming languages\n",
    "languages = ['Java', 'Python', 'PHP', 'C++', 'JavaScript']\n",
    "colors = [\"orange\", \"magenta\", \"green\", \"red\", \"blue\"]\n",
    "\n"
   ]
  },
  {
   "cell_type": "markdown",
   "id": "0071115d",
   "metadata": {},
   "source": [
    "## t-SNE"
   ]
  },
  {
   "attachments": {
    "image.png": {
     "image/png": "[encoded data removed]"
    }
   },
   "cell_type": "markdown",
   "id": "db5d6b5a",
   "metadata": {},
   "source": [
    "![image.png](attachment:image.png)"
   ]
  },
  {
   "cell_type": "code",
   "execution_count": 100,
   "id": "fc44cb98",
   "metadata": {},
   "outputs": [],
   "source": [
    "from sklearn.manifold import TSNE"
   ]
  },
  {
   "cell_type": "code",
   "execution_count": 322,
   "id": "11dc460a",
   "metadata": {},
   "outputs": [],
   "source": [
    "# perform t-SNE\n"
   ]
  },
  {
   "cell_type": "code",
   "execution_count": 323,
   "id": "5de98e44",
   "metadata": {},
   "outputs": [],
   "source": [
    "# plot embedding results\n",
    "genders = [\"Male\", \"Female\", \"Diverse\"]\n",
    "colors = [\"orange\", \"magenta\", \"green\"]\n",
    "\n",
    "\n",
    "\n",
    "plt.xlabel(\"t-SNE 1\"); plt.ylabel(\"t-SNE 2\")"
   ]
  },
  {
   "cell_type": "code",
   "execution_count": 324,
   "id": "9394f564",
   "metadata": {},
   "outputs": [],
   "source": [
    "# plot progamming results\n",
    "languages = ['Java', 'Python', 'PHP', 'C++', 'JavaScript']\n",
    "colors = [\"orange\", \"magenta\", \"green\", \"red\", \"blue\"]\n",
    "\n",
    "\n",
    "    \n",
    "plt.xlabel(\"t-SNE 1\"); plt.ylabel(\"t-SNE 2\")"
   ]
  },
  {
   "cell_type": "code",
   "execution_count": 23,
   "id": "ae92fb2a",
   "metadata": {},
   "outputs": [
    {
     "name": "stderr",
     "output_type": "stream",
     "text": [
      "/home/rgroh/anaconda3/lib/python3.9/site-packages/scipy/__init__.py:146: UserWarning: A NumPy version >=1.16.5 and <1.23.0 is required for this version of SciPy (detected version 1.23.3\n",
      "  warnings.warn(f\"A NumPy version >={np_minversion} and <{np_maxversion}\"\n"
     ]
    }
   ],
   "source": [
    "from pandas_profiling import ProfileReport"
   ]
  },
  {
   "cell_type": "code",
   "execution_count": 325,
   "id": "558cb63d",
   "metadata": {},
   "outputs": [],
   "source": [
    "# create Pandas Profiler object\n"
   ]
  },
  {
   "cell_type": "code",
   "execution_count": 326,
   "id": "cc3a1818",
   "metadata": {},
   "outputs": [],
   "source": [
    "# generate Profiling report\n"
   ]
  },
  {
   "cell_type": "code",
   "execution_count": null,
   "id": "49a40718",
   "metadata": {},
   "outputs": [],
   "source": []
  }
 ],
 "metadata": {
  "kernelspec": {
   "display_name": "Python 3 (ipykernel)",
   "language": "python",
   "name": "python3"
  },
  "language_info": {
   "codemirror_mode": {
    "name": "ipython",
    "version": 3
   },
   "file_extension": ".py",
   "mimetype": "text/x-python",
   "name": "python",
   "nbconvert_exporter": "python",
   "pygments_lexer": "ipython3",
   "version": "3.9.7"
  }
 },
 "nbformat": 4,
 "nbformat_minor": 5
}
