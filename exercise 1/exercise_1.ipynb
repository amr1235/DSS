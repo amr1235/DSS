{
 "cells": [
  {
   "cell_type": "markdown",
   "metadata": {},
   "source": [
    "### Tasks 1/4\n",
    "#### -      Load four arbitrary images and their corresponding segmentation masks and metadata"
   ]
  },
  {
   "cell_type": "code",
   "execution_count": null,
   "metadata": {},
   "outputs": [],
   "source": []
  }
 ],
 "metadata": {
  "kernelspec": {
   "display_name": "Python 3.8.5 32-bit",
   "language": "python",
   "name": "python3"
  },
  "language_info": {
   "name": "python",
   "version": "3.8.5"
  },
  "orig_nbformat": 4,
  "vscode": {
   "interpreter": {
    "hash": "d6068382007b8bfd37da5ec75e36bfdaff0e010f8fc036bde1194672836c9fc5"
   }
  }
 },
 "nbformat": 4,
 "nbformat_minor": 2
}
